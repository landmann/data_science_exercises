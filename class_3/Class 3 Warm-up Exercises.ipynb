{
 "cells": [
  {
   "cell_type": "markdown",
   "metadata": {},
   "source": [
    "# <center> Class 3</center>"
   ]
  },
  {
   "cell_type": "markdown",
   "metadata": {},
   "source": [
    "#### Fill in the blanks where appropriate...."
   ]
  },
  {
   "cell_type": "markdown",
   "metadata": {},
   "source": [
    "# Review: 1. Lists"
   ]
  },
  {
   "cell_type": "code",
   "execution_count": 69,
   "metadata": {
    "ExecuteTime": {
     "end_time": "2021-02-23T14:11:38.904391Z",
     "start_time": "2021-02-23T14:11:38.900380Z"
    }
   },
   "outputs": [],
   "source": [
    "# Initialize an empty list\n",
    "my_list = []\n",
    "\n",
    "# Let's add 3 values...\n",
    "my_list.append('Python')\n",
    "my_list.append('is ok')\n",
    "my_list.append('sometimes')\n",
    "\n",
    "# Let's remove one of the values\n",
    "my_list.remove('sometimes')\n",
    "\n",
    "# Change the second item to a different string.\n",
    "# my_list[2] = 'is neat'\n",
    "my_list[my_list.index('is ok')] = 'is neat'\n",
    "\n",
    "# Verify that it's correct\n",
    "assert my_list == ['Python', 'is neat']"
   ]
  },
  {
   "cell_type": "code",
   "execution_count": 72,
   "metadata": {
    "ExecuteTime": {
     "end_time": "2021-02-23T14:12:14.049666Z",
     "start_time": "2021-02-23T14:12:14.045710Z"
    }
   },
   "outputs": [],
   "source": [
    "# New list without modifying original one\n",
    "original = ['I', 'am' , 'learning', 'hacking', 'in']\n",
    "\n",
    "# TODO:\n",
    "modified = original[:]\n",
    "modified.append(\"Python\")\n",
    "index = modified.index('hacking')\n",
    "modified[index] = 'lists'\n",
    "\n",
    "assert original == ['I', 'am', 'learning', 'hacking', 'in']\n",
    "assert modified == ['I', 'am', 'learning', 'lists', 'in','Python']"
   ]
  },
  {
   "cell_type": "code",
   "execution_count": 75,
   "metadata": {
    "ExecuteTime": {
     "end_time": "2021-02-23T14:12:29.315279Z",
     "start_time": "2021-02-23T14:12:29.311487Z"
    }
   },
   "outputs": [
    {
     "name": "stdout",
     "output_type": "stream",
     "text": [
      "[14, 12, 6.2, 6, 5, 1, 0.9, 0]\n"
     ]
    }
   ],
   "source": [
    "# Merged Sorted List\n",
    "list1 = [6, 12, 5, 0.9]\n",
    "list2 = [6.2, 0, 14, 1]\n",
    "\n",
    "### TODO:\n",
    "my_list = sorted(list1 + list2, reverse=True)\n",
    "\n",
    "\n",
    "print(my_list)\n",
    "assert my_list == [14, 12, 6.2, 6, 5, 1, 0.9, 0]"
   ]
  },
  {
   "cell_type": "markdown",
   "metadata": {},
   "source": [
    "# 2. Dictionaries"
   ]
  },
  {
   "cell_type": "code",
   "execution_count": 80,
   "metadata": {
    "ExecuteTime": {
     "end_time": "2021-02-23T14:12:53.900196Z",
     "start_time": "2021-02-23T14:12:53.897044Z"
    }
   },
   "outputs": [],
   "source": [
    "first_name = 'John'\n",
    "last_name = 'Doe'\n",
    "favorite_hobby = 'Python'\n",
    "sports_hobby = 'gym'\n",
    "age = 82\n",
    "\n",
    "name = f\"{first_name} {last_name}\"\n",
    "# name = f\"{} {}\".format(first_name, last_name)\n",
    "# name = first_name + \" \" + last_name\n",
    "# name = ' '.join([first_name, last_name])\n",
    "\n",
    "# TODO\n",
    "my_dict = {\n",
    "    'name': name,\n",
    "    'age': 82,\n",
    "    'hobbies': ['Python', 'gym']\n",
    "}"
   ]
  },
  {
   "cell_type": "code",
   "execution_count": 81,
   "metadata": {
    "ExecuteTime": {
     "end_time": "2021-02-23T14:12:55.537606Z",
     "start_time": "2021-02-23T14:12:55.535151Z"
    }
   },
   "outputs": [],
   "source": [
    "assert my_dict == {\n",
    "    'name': 'John Doe',\n",
    "    'age': 82,\n",
    "    'hobbies': ['Python', 'gym']\n",
    "}"
   ]
  },
  {
   "cell_type": "code",
   "execution_count": 94,
   "metadata": {
    "ExecuteTime": {
     "end_time": "2021-02-23T14:13:45.903592Z",
     "start_time": "2021-02-23T14:13:45.900652Z"
    }
   },
   "outputs": [],
   "source": [
    "## Accessing and merging keys\n",
    "\n",
    "dict1 = {'k1': 'This is not that hard', 'k2': \"Python is cool\"}\n",
    "dict2 = {'k1': 123, 'special_key': 'secret'}\n",
    "\n",
    "dict3 = dict([('key2', 456), ('KeyX', 'x')])"
   ]
  },
  {
   "cell_type": "code",
   "execution_count": 95,
   "metadata": {
    "ExecuteTime": {
     "end_time": "2021-02-23T14:13:46.153493Z",
     "start_time": "2021-02-23T14:13:46.150324Z"
    }
   },
   "outputs": [],
   "source": [
    "# TODO\n",
    "special_value = dict2['special_key']\n",
    "assert special_value == 'secret'"
   ]
  },
  {
   "cell_type": "code",
   "execution_count": 96,
   "metadata": {
    "ExecuteTime": {
     "end_time": "2021-02-23T14:13:46.563106Z",
     "start_time": "2021-02-23T14:13:46.558848Z"
    }
   },
   "outputs": [],
   "source": [
    "my_dict = dict3\n",
    "my_dict['k1'] = dict2['k1']\n",
    "my_dict['k2'] = my_dict['key2']\n",
    "del my_dict['key2']"
   ]
  },
  {
   "cell_type": "code",
   "execution_count": 98,
   "metadata": {
    "ExecuteTime": {
     "end_time": "2021-02-23T14:13:49.363348Z",
     "start_time": "2021-02-23T14:13:49.360338Z"
    }
   },
   "outputs": [],
   "source": [
    "assert my_dict == {'k1': 123, 'k2': 456, 'KeyX': 'x'}"
   ]
  },
  {
   "cell_type": "markdown",
   "metadata": {},
   "source": [
    "# 3. For Loops"
   ]
  },
  {
   "cell_type": "code",
   "execution_count": 104,
   "metadata": {
    "ExecuteTime": {
     "end_time": "2021-02-23T14:14:52.510899Z",
     "start_time": "2021-02-23T14:14:52.507136Z"
    }
   },
   "outputs": [],
   "source": [
    "words = ['PYTHON', 'JOHN', 'chEEse', 'hAm', 'DOE', '123']\n",
    "upper_case_words = []\n",
    "capitalized_and_sorted_words = []\n",
    "\n",
    "upper_case_words = [word for word in words if word.isupper()]\n",
    "\n",
    "# Another way to do it\n",
    "# words = []\n",
    "# for w in words:\n",
    "#     words.append(w.upper())\n",
    "\n",
    "# for word in words:\n",
    "#     if word.isupper():\n",
    "#         upper_case_words.append(word)\n",
    "        \n",
    "#     capitalized_word = word.title()\n",
    "#     capitalized_and_sorted_words.append(capitalized_word)\n",
    "    \n",
    "capitalized_and_sorted_words = sorted(capitalized_and_sorted_words)\n",
    "\n",
    "# List comprehension\n",
    "\n",
    "\n",
    "capitalized_and_sorted_words = sorted([word.title() for word in words])\n",
    "\n",
    "assert upper_case_words == ['PYTHON', 'JOHN', 'DOE']\n",
    "assert capitalized_and_sorted_words == ['123', 'Cheese', 'Doe', 'Ham', 'John', 'Python']"
   ]
  },
  {
   "cell_type": "code",
   "execution_count": 105,
   "metadata": {
    "ExecuteTime": {
     "end_time": "2021-02-23T14:14:53.581572Z",
     "start_time": "2021-02-23T14:14:53.576846Z"
    }
   },
   "outputs": [
    {
     "name": "stdout",
     "output_type": "stream",
     "text": [
      "My key:  k1\n",
      "My Value: 44\n",
      "\t Is int?:  44\n",
      "My key:  k2\n",
      "My Value: secret value\n",
      "My key:  k3\n",
      "My Value: 55\n",
      "\t Is int?:  55\n",
      "My key:  k4\n",
      "My Value: 1\n",
      "\t Is int?:  1\n"
     ]
    }
   ],
   "source": [
    "# Calculate the sum of dict values\n",
    "values = {'k1':44, 'k2': 'secret value', 'k3': 55, 'k4': 1}\n",
    "\n",
    "sum_of_values = 0\n",
    "# for loop, and add each number to the sum of values\n",
    "for key in values:\n",
    "    print('My key: ', key)\n",
    "    print('My Value:', values[key])\n",
    "    \n",
    "    if type(values[key]) == int:\n",
    "        print(\"\\t Is int?: \", values[key])\n",
    "        sum_of_values += values[key]\n",
    "\n",
    "assert sum_of_values == 100"
   ]
  },
  {
   "cell_type": "code",
   "execution_count": 111,
   "metadata": {
    "ExecuteTime": {
     "end_time": "2021-02-23T14:18:02.530828Z",
     "start_time": "2021-02-23T14:18:02.527240Z"
    }
   },
   "outputs": [],
   "source": [
    "# Create a list of strings based on a list of numbers\n",
    "numbers = [1, 3, 4, 6, 81, 80, 100, 95]\n",
    "\n",
    "my_list = []\n",
    "for n in numbers:\n",
    "    prefix = 'five 'if n%5 == 0 else ''\n",
    "    \n",
    "    if n%2 == 0:\n",
    "        my_list.append(f'{prefix}even')\n",
    "        \n",
    "    elif n%1 == 0:\n",
    "        my_list.append(f'{prefix}odd')\n",
    "\n",
    "assert my_list == ['odd', 'odd', 'even', 'even', 'odd', 'five even', 'five even', 'five odd']"
   ]
  },
  {
   "cell_type": "markdown",
   "metadata": {},
   "source": [
    "# 4. Functions\n"
   ]
  },
  {
   "cell_type": "code",
   "execution_count": 120,
   "metadata": {
    "ExecuteTime": {
     "end_time": "2021-02-23T14:19:30.941067Z",
     "start_time": "2021-02-23T14:19:30.937201Z"
    }
   },
   "outputs": [],
   "source": [
    "def count_even_numbers(numbers):\n",
    "    count = 0\n",
    "    for num in numbers:\n",
    "        if num % 2 == 0:\n",
    "            count += 1\n",
    "    return count\n",
    "\n",
    "    # ALTERNATIVE ONE LINER\n",
    "    return len([x for x in numbers if x%2==0])"
   ]
  },
  {
   "cell_type": "code",
   "execution_count": 119,
   "metadata": {
    "ExecuteTime": {
     "end_time": "2021-02-23T14:19:26.360111Z",
     "start_time": "2021-02-23T14:19:26.356348Z"
    }
   },
   "outputs": [],
   "source": [
    "assert count_even_numbers ([1, 2, 3, 4, 5, 6]) == 3\n",
    "assert count_even_numbers ([1, 3, 5, 7]) == 0\n",
    "assert count_even_numbers ([-2, 2, -10, 8]) == 4"
   ]
  },
  {
   "cell_type": "markdown",
   "metadata": {},
   "source": [
    "### Search for the wanted people\n",
    "Implement find_wanted_people which takes a list of names (strings) as arguments\n",
    "The function should return a list of names which are present both in WANTED and in the name list given as argument to the function."
   ]
  },
  {
   "cell_type": "code",
   "execution_count": 126,
   "metadata": {
    "ExecuteTime": {
     "end_time": "2021-02-23T14:21:47.959875Z",
     "start_time": "2021-02-23T14:21:47.954363Z"
    }
   },
   "outputs": [],
   "source": [
    "WANTED = ['John Doe', 'Clint Eastwood', 'Chuck Norris']\n",
    "\n",
    "# TODO:\n",
    "def find_wanted_people(ppl):\n",
    "    found = []\n",
    "    for x in ppl:\n",
    "        if x in WANTED:\n",
    "            found.append(x)\n",
    "    return found\n",
    "      \n",
    "\n",
    "# ONE LINER\n",
    "def find_wanted_people(ppl):\n",
    "    return list(set(WANTED).intersection(set(ppl)))\n",
    "\n",
    "people_to_check1 = ['Donald Duck', 'Clint Eastwood', 'John Doe', 'Barack Obama']\n",
    "\n",
    "wanted1 = find_wanted_people(people_to_check1)\n",
    "assert len(wanted1) == 2\n",
    "assert 'John Doe' in wanted1\n",
    "assert 'Clint Eastwood' in wanted1\n",
    "\n",
    "people_to_check2 = ['Donald Duck', 'Mickey Mouse', 'Zorro', 'Superman', 'Robin Hood']\n",
    "wanted = find_wanted_people(people_to_check2)\n",
    "assert wanted == []"
   ]
  },
  {
   "cell_type": "markdown",
   "metadata": {},
   "source": [
    "### Counting Average Length of Words in a Sentence\n",
    "\n",
    "Create a function `average_length_of_words` which takes a string as an argument and returns the average length of words in the string.  You can assume that there is a single space between each word and that the input does not have punctuation.  The result should be rounded to one decimal place.\n",
    "\n",
    "_hint: You may need to round your answer.... use whatever method you can muster (or find online!)"
   ]
  },
  {
   "cell_type": "code",
   "execution_count": 141,
   "metadata": {
    "ExecuteTime": {
     "end_time": "2021-02-23T14:27:33.185746Z",
     "start_time": "2021-02-23T14:27:33.180933Z"
    }
   },
   "outputs": [],
   "source": [
    "### TODO:\n",
    "def average_length_of_words(words):\n",
    "    split_words = words.split(\" \")\n",
    "    total = sum([len(x) for x in split_words])\n",
    "    \n",
    "    # OR \n",
    "    total = 0\n",
    "    for x in split_words:\n",
    "        total += len(x)\n",
    "        \n",
    "    average = total/len(words.split(\" \"))\n",
    "    return round(average, 1)\n",
    "\n",
    "assert average_length_of_words ('only four lett erwo rdss') == 4\n",
    "assert average_length_of_words ('one two three') == 3.7\n",
    "assert average_length_of_words ('only four lett erwo rdss') == 4\n",
    "assert average_length_of_words ('') == 0"
   ]
  },
  {
   "cell_type": "markdown",
   "metadata": {},
   "source": [
    "## Unnamed functions (lambda function)\n",
    "In Python we can also create unnamed functions, using the lambda keyword:"
   ]
  },
  {
   "cell_type": "code",
   "execution_count": 142,
   "metadata": {
    "ExecuteTime": {
     "end_time": "2021-02-23T14:29:08.128852Z",
     "start_time": "2021-02-23T14:29:08.124529Z"
    }
   },
   "outputs": [
    {
     "data": {
      "text/plain": [
       "(4, 4)"
      ]
     },
     "execution_count": 142,
     "metadata": {},
     "output_type": "execute_result"
    }
   ],
   "source": [
    "f1 = lambda x: x**2\n",
    "    \n",
    "# is equivalent to \n",
    "\n",
    "def f2(x):\n",
    "    return x**2\n",
    "\n",
    "f1(2), f2(2)"
   ]
  },
  {
   "cell_type": "markdown",
   "metadata": {},
   "source": [
    "This technique is useful for example when we want to pass a simple function as an argument to another function, like this:"
   ]
  },
  {
   "cell_type": "code",
   "execution_count": 143,
   "metadata": {
    "ExecuteTime": {
     "end_time": "2021-02-23T14:29:10.164815Z",
     "start_time": "2021-02-23T14:29:10.159955Z"
    }
   },
   "outputs": [
    {
     "data": {
      "text/plain": [
       "<map at 0x1055c1cd0>"
      ]
     },
     "execution_count": 143,
     "metadata": {},
     "output_type": "execute_result"
    }
   ],
   "source": [
    "# map is a built-in python function\n",
    "map(lambda x: x**2, range(-3,4))"
   ]
  },
  {
   "cell_type": "code",
   "execution_count": 144,
   "metadata": {
    "ExecuteTime": {
     "end_time": "2021-02-23T14:29:11.014545Z",
     "start_time": "2021-02-23T14:29:11.008191Z"
    }
   },
   "outputs": [
    {
     "name": "stdout",
     "output_type": "stream",
     "text": [
      "Help on class map in module builtins:\n",
      "\n",
      "class map(object)\n",
      " |  map(func, *iterables) --> map object\n",
      " |  \n",
      " |  Make an iterator that computes the function using arguments from\n",
      " |  each of the iterables.  Stops when the shortest iterable is exhausted.\n",
      " |  \n",
      " |  Methods defined here:\n",
      " |  \n",
      " |  __getattribute__(self, name, /)\n",
      " |      Return getattr(self, name).\n",
      " |  \n",
      " |  __iter__(self, /)\n",
      " |      Implement iter(self).\n",
      " |  \n",
      " |  __next__(self, /)\n",
      " |      Implement next(self).\n",
      " |  \n",
      " |  __reduce__(...)\n",
      " |      Return state information for pickling.\n",
      " |  \n",
      " |  ----------------------------------------------------------------------\n",
      " |  Static methods defined here:\n",
      " |  \n",
      " |  __new__(*args, **kwargs) from builtins.type\n",
      " |      Create and return a new object.  See help(type) for accurate signature.\n",
      "\n"
     ]
    }
   ],
   "source": [
    "help(map)"
   ]
  },
  {
   "cell_type": "code",
   "execution_count": 145,
   "metadata": {
    "ExecuteTime": {
     "end_time": "2021-02-23T14:29:16.126023Z",
     "start_time": "2021-02-23T14:29:16.118760Z"
    }
   },
   "outputs": [
    {
     "data": {
      "text/plain": [
       "[9, 4, 1, 0, 1, 4, 9]"
      ]
     },
     "execution_count": 145,
     "metadata": {},
     "output_type": "execute_result"
    }
   ],
   "source": [
    "# in python 3 we can use `list(...)` to convert the iterator to an explicit list\n",
    "list(map(lambda x: x**2, range(-3,4)))"
   ]
  },
  {
   "cell_type": "code",
   "execution_count": 156,
   "metadata": {
    "ExecuteTime": {
     "end_time": "2021-02-23T14:30:22.894030Z",
     "start_time": "2021-02-23T14:30:22.889505Z"
    }
   },
   "outputs": [
    {
     "data": {
      "text/plain": [
       "['State', 'Albuquerque', 'Arizona', 'New Mexico']"
      ]
     },
     "execution_count": 156,
     "metadata": {},
     "output_type": "execute_result"
    }
   ],
   "source": [
    "my_list"
   ]
  },
  {
   "cell_type": "code",
   "execution_count": 160,
   "metadata": {
    "ExecuteTime": {
     "end_time": "2021-02-23T14:32:48.030912Z",
     "start_time": "2021-02-23T14:32:48.026105Z"
    }
   },
   "outputs": [],
   "source": [
    "# Sort the following list to the order specified in the assertion \n",
    "# (hint: you'll have to use a sorting key and a lambda function to sort by the third letter in the word)\n",
    "\n",
    "my_list = ['Albuquerque', 'State', 'new Mexico', 'ArIzoNa']\n",
    "\n",
    "## TODO\n",
    "my_list = [x.title() for x in sorted(my_list, key=lambda x: x[2])]\n",
    "\n",
    "assert my_list == ['Arizona', 'State', 'Albuquerque', 'New Mexico']"
   ]
  },
  {
   "cell_type": "markdown",
   "metadata": {},
   "source": [
    "## BONUS IF YOU'RE A FAST COOKIE"
   ]
  },
  {
   "cell_type": "markdown",
   "metadata": {},
   "source": [
    "Implement a name_mapping function which takes a collection of names as argument.\n",
    "\n",
    "### The specification for name_mapping\n",
    "* you can assume that all the elements in the names collection are strings\n",
    "* if the provided names collection is empty, returns an empty dictionary.\n",
    "* returns a dictionary of dictionaries\n",
    "    * outer dictionary should contain keys vowel and consonant\n",
    "    * vowel and consonant keys should have dictionaries of names (keys) and their occurrences (values) as values\n",
    "    * names belong to either vowel or consonant based on their first letter\n",
    "    * vowels are defined by the VOWELS constant\n",
    "    * if there are only names starting with a vowel, consonant key should not be present in the return value (same applies vice versa)\n",
    "* see the tests below for complete examples\n",
    "\n",
    "Tip: `defaultdict` and Counter may be helpful here :)"
   ]
  },
  {
   "cell_type": "code",
   "execution_count": 161,
   "metadata": {
    "ExecuteTime": {
     "end_time": "2021-02-23T14:32:54.200985Z",
     "start_time": "2021-02-23T14:32:54.196887Z"
    }
   },
   "outputs": [],
   "source": [
    "VOWELS = ('a', 'e', 'i', 'o', 'u')"
   ]
  },
  {
   "cell_type": "code",
   "execution_count": 167,
   "metadata": {
    "ExecuteTime": {
     "end_time": "2021-03-02T12:45:06.025321Z",
     "start_time": "2021-03-02T12:45:06.021921Z"
    }
   },
   "outputs": [],
   "source": [
    "from collections import defaultdict"
   ]
  },
  {
   "cell_type": "code",
   "execution_count": 180,
   "metadata": {
    "ExecuteTime": {
     "end_time": "2021-03-02T12:46:56.951896Z",
     "start_time": "2021-03-02T12:46:56.946743Z"
    }
   },
   "outputs": [],
   "source": [
    "def name_mapping(names):\n",
    "    if len(names) == 0:\n",
    "        return {}\n",
    "    results = {'consonant': defaultdict(int), 'vowel': defaultdict(int)}\n",
    "    for name in names:\n",
    "        if name[0].lower() in VOWELS:\n",
    "            results['vowel'][name] += 1\n",
    "        else:\n",
    "            results['consonant'][name] += 1\n",
    "    for t in ['consonant', 'vowel']:\n",
    "        if len(results[t]) == 0:\n",
    "            del results[t]\n",
    "    return results"
   ]
  },
  {
   "cell_type": "code",
   "execution_count": 181,
   "metadata": {
    "ExecuteTime": {
     "end_time": "2021-03-02T12:46:57.641695Z",
     "start_time": "2021-03-02T12:46:57.636564Z"
    }
   },
   "outputs": [
    {
     "name": "stdout",
     "output_type": "stream",
     "text": [
      "First ok!\n",
      "Second ok!\n",
      "All ok!\n"
     ]
    }
   ],
   "source": [
    "names = ('Alice', 'John', 'Lisa', 'John', 'Eric', 'Waldo', 'annie', 'Alice', 'John')\n",
    "expected = {\n",
    "    'consonant': {\n",
    "        'John': 3,\n",
    "        'Waldo': 1,\n",
    "        'Lisa': 1\n",
    "    },\n",
    "    'vowel': {\n",
    "        'Alice': 2,\n",
    "        'annie': 1,\n",
    "        'Eric': 1\n",
    "    }\n",
    "}\n",
    "assert name_mapping(names) == expected\n",
    "print('First ok!')\n",
    "\n",
    "only_consonants = ('John', 'Doe', 'Doe')\n",
    "expected2 = {\n",
    "    'consonant': {\n",
    "        'John': 1,\n",
    "        'Doe': 2\n",
    "    },\n",
    "}\n",
    "assert name_mapping(only_consonants) == expected2\n",
    "print('Second ok!')\n",
    "\n",
    "assert name_mapping([]) == {}\n",
    "\n",
    "print('All ok!')"
   ]
  },
  {
   "cell_type": "markdown",
   "metadata": {},
   "source": [
    "## BONUS TWO IF YOU'RE AN EXTRA FAST COOKIE"
   ]
  },
  {
   "cell_type": "markdown",
   "metadata": {},
   "source": [
    "Implement rock_paper_scissors function which takes the player's rock-paper-scissors choice as an input (as integer), randomly selects the choice of the computer and reveals it (prints) and finally announces (prints) the result. The function should return `PLAYER_WINS`, `COMPUTER_WINS` or `TIE`."
   ]
  },
  {
   "cell_type": "code",
   "execution_count": 182,
   "metadata": {
    "ExecuteTime": {
     "end_time": "2021-03-02T12:47:02.408782Z",
     "start_time": "2021-03-02T12:47:02.405788Z"
    }
   },
   "outputs": [],
   "source": [
    "# Constants, you should use these in your implementation\n",
    "ROCK = 1\n",
    "PAPER = 2\n",
    "SCISSORS = 3\n",
    "\n",
    "PLAYER_WINS = 'Player wins!! Woop woop!'\n",
    "COMPUTER_WINS = 'Robocop wins :-('\n",
    "TIE = \"It's a tie!\""
   ]
  },
  {
   "cell_type": "code",
   "execution_count": null,
   "metadata": {},
   "outputs": [],
   "source": [
    "## TODO: Implement"
   ]
  },
  {
   "cell_type": "code",
   "execution_count": null,
   "metadata": {},
   "outputs": [],
   "source": [
    "def play_rps():\n",
    "    print('Welcome to play rock-paper-scissors')\n",
    "    print('The options are:\\nrock: 1\\npaper: 2\\nscissors: 3')\n",
    "\n",
    "    result = TIE\n",
    "    while result == TIE:\n",
    "        player_choice = input('Give your choice\\n')\n",
    "        \n",
    "        if not player_choice in ['1', '2', '3']:\n",
    "            print('Invalid choice')\n",
    "            continue\n",
    "            \n",
    "        result = rock_paper_scissors(int(player_choice))"
   ]
  },
  {
   "cell_type": "code",
   "execution_count": null,
   "metadata": {},
   "outputs": [],
   "source": [
    "play_rps()"
   ]
  },
  {
   "cell_type": "markdown",
   "metadata": {},
   "source": [
    "If you copy the code from above cells into a single `.py` file, you have a rock-paper-scissor command line game!"
   ]
  },
  {
   "cell_type": "code",
   "execution_count": null,
   "metadata": {},
   "outputs": [],
   "source": []
  }
 ],
 "metadata": {
  "kernelspec": {
   "display_name": "myenv",
   "language": "python",
   "name": "myenv"
  },
  "language_info": {
   "codemirror_mode": {
    "name": "ipython",
    "version": 3
   },
   "file_extension": ".py",
   "mimetype": "text/x-python",
   "name": "python",
   "nbconvert_exporter": "python",
   "pygments_lexer": "ipython3",
   "version": "3.8.6"
  }
 },
 "nbformat": 4,
 "nbformat_minor": 4
}
