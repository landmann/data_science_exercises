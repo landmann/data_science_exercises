{
 "cells": [
  {
   "cell_type": "markdown",
   "metadata": {},
   "source": [
    "# Time Series Analysis\n",
    "\n",
    "In this exercise we'll attempt to predict Bitcoin prices with Python.\n",
    "\n",
    "How to approach time series data manipulation and how you can use it in your everyday work. \n",
    "\n",
    "The BTC price movements from January to March of 2015 will be used, a time in which bitcoin largely went sideways. The price data will be pulled from Coinbase.\n",
    "\n"
   ]
  },
  {
   "cell_type": "code",
   "execution_count": 3,
   "metadata": {
    "ExecuteTime": {
     "end_time": "2021-03-04T12:45:05.705581Z",
     "start_time": "2021-03-04T12:45:05.702605Z"
    }
   },
   "outputs": [],
   "source": [
    "import datetime\n",
    "import pandas as pd\n",
    "import numpy as np\n",
    "import matplotlib.pyplot as plt\n",
    "from datetime import datetime\n",
    "\n",
    "plt.rcParams['figure.figsize'] = [18, 6]\n",
    "plt.rcParams['axes.grid'] = True"
   ]
  },
  {
   "cell_type": "code",
   "execution_count": 4,
   "metadata": {
    "ExecuteTime": {
     "end_time": "2021-03-04T12:45:08.857859Z",
     "start_time": "2021-03-04T12:45:05.910846Z"
    }
   },
   "outputs": [
    {
     "name": "stderr",
     "output_type": "stream",
     "text": [
      "/usr/local/lib/python3.8/site-packages/numpy/lib/arraysetops.py:580: FutureWarning: elementwise comparison failed; returning scalar instead, but in the future will perform elementwise comparison\n",
      "  mask |= (ar1 == a)\n"
     ]
    }
   ],
   "source": [
    "# Data from Kaggle.\n",
    "df = pd.read_csv('data/bitstampUSD_1-min_data_2012-01-01_to_2020-12-31.csv', index_col=0, )"
   ]
  },
  {
   "cell_type": "code",
   "execution_count": 7,
   "metadata": {
    "ExecuteTime": {
     "end_time": "2021-03-04T12:45:15.750768Z",
     "start_time": "2021-03-04T12:45:15.740345Z"
    }
   },
   "outputs": [
    {
     "data": {
      "text/html": [
       "<div>\n",
       "<style scoped>\n",
       "    .dataframe tbody tr th:only-of-type {\n",
       "        vertical-align: middle;\n",
       "    }\n",
       "\n",
       "    .dataframe tbody tr th {\n",
       "        vertical-align: top;\n",
       "    }\n",
       "\n",
       "    .dataframe thead th {\n",
       "        text-align: right;\n",
       "    }\n",
       "</style>\n",
       "<table border=\"1\" class=\"dataframe\">\n",
       "  <thead>\n",
       "    <tr style=\"text-align: right;\">\n",
       "      <th></th>\n",
       "      <th>Open</th>\n",
       "      <th>High</th>\n",
       "      <th>Low</th>\n",
       "      <th>Close</th>\n",
       "      <th>Volume_(BTC)</th>\n",
       "      <th>Volume_(Currency)</th>\n",
       "      <th>Weighted_Price</th>\n",
       "    </tr>\n",
       "    <tr>\n",
       "      <th>Timestamp</th>\n",
       "      <th></th>\n",
       "      <th></th>\n",
       "      <th></th>\n",
       "      <th></th>\n",
       "      <th></th>\n",
       "      <th></th>\n",
       "      <th></th>\n",
       "    </tr>\n",
       "  </thead>\n",
       "  <tbody>\n",
       "    <tr>\n",
       "      <th>1609372560</th>\n",
       "      <td>28801.47</td>\n",
       "      <td>28829.42</td>\n",
       "      <td>28785.64</td>\n",
       "      <td>28829.42</td>\n",
       "      <td>0.965221</td>\n",
       "      <td>27804.572129</td>\n",
       "      <td>28806.429798</td>\n",
       "    </tr>\n",
       "    <tr>\n",
       "      <th>1609372620</th>\n",
       "      <td>28829.42</td>\n",
       "      <td>28863.90</td>\n",
       "      <td>28829.42</td>\n",
       "      <td>28857.06</td>\n",
       "      <td>2.368831</td>\n",
       "      <td>68332.350629</td>\n",
       "      <td>28846.441863</td>\n",
       "    </tr>\n",
       "    <tr>\n",
       "      <th>1609372680</th>\n",
       "      <td>28850.49</td>\n",
       "      <td>28900.52</td>\n",
       "      <td>28850.49</td>\n",
       "      <td>28882.82</td>\n",
       "      <td>2.466590</td>\n",
       "      <td>71232.784464</td>\n",
       "      <td>28879.056266</td>\n",
       "    </tr>\n",
       "    <tr>\n",
       "      <th>1609372740</th>\n",
       "      <td>28910.54</td>\n",
       "      <td>28911.52</td>\n",
       "      <td>28867.60</td>\n",
       "      <td>28881.30</td>\n",
       "      <td>7.332773</td>\n",
       "      <td>211870.912660</td>\n",
       "      <td>28893.695831</td>\n",
       "    </tr>\n",
       "    <tr>\n",
       "      <th>1609372800</th>\n",
       "      <td>28893.21</td>\n",
       "      <td>28928.49</td>\n",
       "      <td>28893.21</td>\n",
       "      <td>28928.49</td>\n",
       "      <td>5.757679</td>\n",
       "      <td>166449.709320</td>\n",
       "      <td>28909.166061</td>\n",
       "    </tr>\n",
       "  </tbody>\n",
       "</table>\n",
       "</div>"
      ],
      "text/plain": [
       "                Open      High       Low     Close  Volume_(BTC)  \\\n",
       "Timestamp                                                          \n",
       "1609372560  28801.47  28829.42  28785.64  28829.42      0.965221   \n",
       "1609372620  28829.42  28863.90  28829.42  28857.06      2.368831   \n",
       "1609372680  28850.49  28900.52  28850.49  28882.82      2.466590   \n",
       "1609372740  28910.54  28911.52  28867.60  28881.30      7.332773   \n",
       "1609372800  28893.21  28928.49  28893.21  28928.49      5.757679   \n",
       "\n",
       "            Volume_(Currency)  Weighted_Price  \n",
       "Timestamp                                      \n",
       "1609372560       27804.572129    28806.429798  \n",
       "1609372620       68332.350629    28846.441863  \n",
       "1609372680       71232.784464    28879.056266  \n",
       "1609372740      211870.912660    28893.695831  \n",
       "1609372800      166449.709320    28909.166061  "
      ]
     },
     "execution_count": 7,
     "metadata": {},
     "output_type": "execute_result"
    }
   ],
   "source": [
    "df.tail()"
   ]
  },
  {
   "cell_type": "code",
   "execution_count": 10,
   "metadata": {
    "ExecuteTime": {
     "end_time": "2021-03-04T12:47:37.323212Z",
     "start_time": "2021-03-04T12:47:28.049218Z"
    }
   },
   "outputs": [],
   "source": [
    "df.index = [datetime.utcfromtimestamp(x) for x in df.index]"
   ]
  },
  {
   "cell_type": "code",
   "execution_count": 14,
   "metadata": {
    "ExecuteTime": {
     "end_time": "2021-03-04T12:48:22.461713Z",
     "start_time": "2021-03-04T12:48:22.451536Z"
    }
   },
   "outputs": [
    {
     "data": {
      "text/html": [
       "<div>\n",
       "<style scoped>\n",
       "    .dataframe tbody tr th:only-of-type {\n",
       "        vertical-align: middle;\n",
       "    }\n",
       "\n",
       "    .dataframe tbody tr th {\n",
       "        vertical-align: top;\n",
       "    }\n",
       "\n",
       "    .dataframe thead th {\n",
       "        text-align: right;\n",
       "    }\n",
       "</style>\n",
       "<table border=\"1\" class=\"dataframe\">\n",
       "  <thead>\n",
       "    <tr style=\"text-align: right;\">\n",
       "      <th></th>\n",
       "      <th>Open</th>\n",
       "      <th>High</th>\n",
       "      <th>Low</th>\n",
       "      <th>Close</th>\n",
       "      <th>Volume_(BTC)</th>\n",
       "      <th>Volume_(Currency)</th>\n",
       "      <th>Weighted_Price</th>\n",
       "    </tr>\n",
       "  </thead>\n",
       "  <tbody>\n",
       "    <tr>\n",
       "      <th>2011-12-31 07:53:00</th>\n",
       "      <td>NaN</td>\n",
       "      <td>NaN</td>\n",
       "      <td>NaN</td>\n",
       "      <td>NaN</td>\n",
       "      <td>NaN</td>\n",
       "      <td>NaN</td>\n",
       "      <td>NaN</td>\n",
       "    </tr>\n",
       "    <tr>\n",
       "      <th>2020-12-31 00:00:00</th>\n",
       "      <td>28893.21</td>\n",
       "      <td>28928.49</td>\n",
       "      <td>28893.21</td>\n",
       "      <td>28928.49</td>\n",
       "      <td>5.757679</td>\n",
       "      <td>166449.70932</td>\n",
       "      <td>28909.166061</td>\n",
       "    </tr>\n",
       "  </tbody>\n",
       "</table>\n",
       "</div>"
      ],
      "text/plain": [
       "                         Open      High       Low     Close  Volume_(BTC)  \\\n",
       "2011-12-31 07:53:00       NaN       NaN       NaN       NaN           NaN   \n",
       "2020-12-31 00:00:00  28893.21  28928.49  28893.21  28928.49      5.757679   \n",
       "\n",
       "                     Volume_(Currency)  Weighted_Price  \n",
       "2011-12-31 07:53:00                NaN             NaN  \n",
       "2020-12-31 00:00:00       166449.70932    28909.166061  "
      ]
     },
     "execution_count": 14,
     "metadata": {},
     "output_type": "execute_result"
    }
   ],
   "source": [
    "df.iloc[[1, -1], :]"
   ]
  },
  {
   "cell_type": "markdown",
   "metadata": {},
   "source": [
    "## See the last 10 rows of the data."
   ]
  },
  {
   "cell_type": "code",
   "execution_count": 15,
   "metadata": {
    "ExecuteTime": {
     "end_time": "2021-03-04T12:48:28.400387Z",
     "start_time": "2021-03-04T12:48:28.388591Z"
    }
   },
   "outputs": [
    {
     "data": {
      "text/html": [
       "<div>\n",
       "<style scoped>\n",
       "    .dataframe tbody tr th:only-of-type {\n",
       "        vertical-align: middle;\n",
       "    }\n",
       "\n",
       "    .dataframe tbody tr th {\n",
       "        vertical-align: top;\n",
       "    }\n",
       "\n",
       "    .dataframe thead th {\n",
       "        text-align: right;\n",
       "    }\n",
       "</style>\n",
       "<table border=\"1\" class=\"dataframe\">\n",
       "  <thead>\n",
       "    <tr style=\"text-align: right;\">\n",
       "      <th></th>\n",
       "      <th>Open</th>\n",
       "      <th>High</th>\n",
       "      <th>Low</th>\n",
       "      <th>Close</th>\n",
       "      <th>Volume_(BTC)</th>\n",
       "      <th>Volume_(Currency)</th>\n",
       "      <th>Weighted_Price</th>\n",
       "    </tr>\n",
       "  </thead>\n",
       "  <tbody>\n",
       "    <tr>\n",
       "      <th>2020-12-30 23:51:00</th>\n",
       "      <td>28836.97</td>\n",
       "      <td>28849.67</td>\n",
       "      <td>28807.78</td>\n",
       "      <td>28826.52</td>\n",
       "      <td>2.051917</td>\n",
       "      <td>59173.965272</td>\n",
       "      <td>28838.376450</td>\n",
       "    </tr>\n",
       "    <tr>\n",
       "      <th>2020-12-30 23:52:00</th>\n",
       "      <td>28826.49</td>\n",
       "      <td>28844.25</td>\n",
       "      <td>28816.09</td>\n",
       "      <td>28816.09</td>\n",
       "      <td>0.721410</td>\n",
       "      <td>20803.457100</td>\n",
       "      <td>28837.207539</td>\n",
       "    </tr>\n",
       "    <tr>\n",
       "      <th>2020-12-30 23:53:00</th>\n",
       "      <td>28814.36</td>\n",
       "      <td>28822.71</td>\n",
       "      <td>28800.00</td>\n",
       "      <td>28800.00</td>\n",
       "      <td>1.529671</td>\n",
       "      <td>44076.572351</td>\n",
       "      <td>28814.411945</td>\n",
       "    </tr>\n",
       "    <tr>\n",
       "      <th>2020-12-30 23:54:00</th>\n",
       "      <td>28800.00</td>\n",
       "      <td>28832.79</td>\n",
       "      <td>28800.00</td>\n",
       "      <td>28831.35</td>\n",
       "      <td>2.036450</td>\n",
       "      <td>58675.679644</td>\n",
       "      <td>28812.732950</td>\n",
       "    </tr>\n",
       "    <tr>\n",
       "      <th>2020-12-30 23:55:00</th>\n",
       "      <td>28809.07</td>\n",
       "      <td>28825.50</td>\n",
       "      <td>28800.01</td>\n",
       "      <td>28810.08</td>\n",
       "      <td>0.087391</td>\n",
       "      <td>2517.799582</td>\n",
       "      <td>28810.597267</td>\n",
       "    </tr>\n",
       "    <tr>\n",
       "      <th>2020-12-30 23:56:00</th>\n",
       "      <td>28801.47</td>\n",
       "      <td>28829.42</td>\n",
       "      <td>28785.64</td>\n",
       "      <td>28829.42</td>\n",
       "      <td>0.965221</td>\n",
       "      <td>27804.572129</td>\n",
       "      <td>28806.429798</td>\n",
       "    </tr>\n",
       "    <tr>\n",
       "      <th>2020-12-30 23:57:00</th>\n",
       "      <td>28829.42</td>\n",
       "      <td>28863.90</td>\n",
       "      <td>28829.42</td>\n",
       "      <td>28857.06</td>\n",
       "      <td>2.368831</td>\n",
       "      <td>68332.350629</td>\n",
       "      <td>28846.441863</td>\n",
       "    </tr>\n",
       "    <tr>\n",
       "      <th>2020-12-30 23:58:00</th>\n",
       "      <td>28850.49</td>\n",
       "      <td>28900.52</td>\n",
       "      <td>28850.49</td>\n",
       "      <td>28882.82</td>\n",
       "      <td>2.466590</td>\n",
       "      <td>71232.784464</td>\n",
       "      <td>28879.056266</td>\n",
       "    </tr>\n",
       "    <tr>\n",
       "      <th>2020-12-30 23:59:00</th>\n",
       "      <td>28910.54</td>\n",
       "      <td>28911.52</td>\n",
       "      <td>28867.60</td>\n",
       "      <td>28881.30</td>\n",
       "      <td>7.332773</td>\n",
       "      <td>211870.912660</td>\n",
       "      <td>28893.695831</td>\n",
       "    </tr>\n",
       "    <tr>\n",
       "      <th>2020-12-31 00:00:00</th>\n",
       "      <td>28893.21</td>\n",
       "      <td>28928.49</td>\n",
       "      <td>28893.21</td>\n",
       "      <td>28928.49</td>\n",
       "      <td>5.757679</td>\n",
       "      <td>166449.709320</td>\n",
       "      <td>28909.166061</td>\n",
       "    </tr>\n",
       "  </tbody>\n",
       "</table>\n",
       "</div>"
      ],
      "text/plain": [
       "                         Open      High       Low     Close  Volume_(BTC)  \\\n",
       "2020-12-30 23:51:00  28836.97  28849.67  28807.78  28826.52      2.051917   \n",
       "2020-12-30 23:52:00  28826.49  28844.25  28816.09  28816.09      0.721410   \n",
       "2020-12-30 23:53:00  28814.36  28822.71  28800.00  28800.00      1.529671   \n",
       "2020-12-30 23:54:00  28800.00  28832.79  28800.00  28831.35      2.036450   \n",
       "2020-12-30 23:55:00  28809.07  28825.50  28800.01  28810.08      0.087391   \n",
       "2020-12-30 23:56:00  28801.47  28829.42  28785.64  28829.42      0.965221   \n",
       "2020-12-30 23:57:00  28829.42  28863.90  28829.42  28857.06      2.368831   \n",
       "2020-12-30 23:58:00  28850.49  28900.52  28850.49  28882.82      2.466590   \n",
       "2020-12-30 23:59:00  28910.54  28911.52  28867.60  28881.30      7.332773   \n",
       "2020-12-31 00:00:00  28893.21  28928.49  28893.21  28928.49      5.757679   \n",
       "\n",
       "                     Volume_(Currency)  Weighted_Price  \n",
       "2020-12-30 23:51:00       59173.965272    28838.376450  \n",
       "2020-12-30 23:52:00       20803.457100    28837.207539  \n",
       "2020-12-30 23:53:00       44076.572351    28814.411945  \n",
       "2020-12-30 23:54:00       58675.679644    28812.732950  \n",
       "2020-12-30 23:55:00        2517.799582    28810.597267  \n",
       "2020-12-30 23:56:00       27804.572129    28806.429798  \n",
       "2020-12-30 23:57:00       68332.350629    28846.441863  \n",
       "2020-12-30 23:58:00       71232.784464    28879.056266  \n",
       "2020-12-30 23:59:00      211870.912660    28893.695831  \n",
       "2020-12-31 00:00:00      166449.709320    28909.166061  "
      ]
     },
     "execution_count": 15,
     "metadata": {},
     "output_type": "execute_result"
    }
   ],
   "source": [
    "# Weighted_Price is the Volume Weighted Average Price.\n",
    "df.tail(10)"
   ]
  },
  {
   "cell_type": "markdown",
   "metadata": {},
   "source": [
    "## Let's visualize each of the columns."
   ]
  },
  {
   "cell_type": "code",
   "execution_count": 16,
   "metadata": {
    "ExecuteTime": {
     "end_time": "2021-03-04T12:49:10.774959Z",
     "start_time": "2021-03-04T12:48:38.056980Z"
    }
   },
   "outputs": [
    {
     "data": {
      "text/plain": [
       "<AxesSubplot:>"
      ]
     },
     "execution_count": 16,
     "metadata": {},
     "output_type": "execute_result"
    },
    {
     "data": {
      "image/png": "[encoded data removed]",
      "text/plain": [
       "<Figure size 1296x432 with 1 Axes>"
      ]
     },
     "metadata": {
      "needs_background": "light"
     },
     "output_type": "display_data"
    }
   ],
   "source": [
    "# Plot the Open, High, Low, Close and Volume in a chart.\n",
    "df.plot()"
   ]
  },
  {
   "cell_type": "markdown",
   "metadata": {},
   "source": [
    "Notice how long it takes to do that... Do you need to see every single minute plotted on the graph?"
   ]
  },
  {
   "cell_type": "markdown",
   "metadata": {},
   "source": [
    "## How many data samples do we have?"
   ]
  },
  {
   "cell_type": "code",
   "execution_count": 18,
   "metadata": {
    "ExecuteTime": {
     "end_time": "2021-03-04T12:50:43.310093Z",
     "start_time": "2021-03-04T12:50:43.305607Z"
    }
   },
   "outputs": [
    {
     "data": {
      "text/plain": [
       "(4727777, 7)"
      ]
     },
     "execution_count": 18,
     "metadata": {},
     "output_type": "execute_result"
    }
   ],
   "source": [
    "df.shape"
   ]
  },
  {
   "cell_type": "code",
   "execution_count": 19,
   "metadata": {
    "ExecuteTime": {
     "end_time": "2021-03-04T12:50:43.647404Z",
     "start_time": "2021-03-04T12:50:43.643832Z"
    }
   },
   "outputs": [],
   "source": [
    "# Resample to daily bars and plot again."
   ]
  },
  {
   "cell_type": "code",
   "execution_count": 38,
   "metadata": {
    "ExecuteTime": {
     "end_time": "2021-03-04T12:55:12.418608Z",
     "start_time": "2021-03-04T12:55:12.406002Z"
    }
   },
   "outputs": [
    {
     "data": {
      "text/html": [
       "<div>\n",
       "<style scoped>\n",
       "    .dataframe tbody tr th:only-of-type {\n",
       "        vertical-align: middle;\n",
       "    }\n",
       "\n",
       "    .dataframe tbody tr th {\n",
       "        vertical-align: top;\n",
       "    }\n",
       "\n",
       "    .dataframe thead th {\n",
       "        text-align: right;\n",
       "    }\n",
       "</style>\n",
       "<table border=\"1\" class=\"dataframe\">\n",
       "  <thead>\n",
       "    <tr style=\"text-align: right;\">\n",
       "      <th></th>\n",
       "      <th>Open</th>\n",
       "      <th>High</th>\n",
       "      <th>Low</th>\n",
       "      <th>Close</th>\n",
       "      <th>Volume_(BTC)</th>\n",
       "      <th>Volume_(Currency)</th>\n",
       "      <th>Weighted_Price</th>\n",
       "    </tr>\n",
       "  </thead>\n",
       "  <tbody>\n",
       "    <tr>\n",
       "      <th>2020-12-30 23:56:00</th>\n",
       "      <td>28801.47</td>\n",
       "      <td>28829.42</td>\n",
       "      <td>28785.64</td>\n",
       "      <td>28829.42</td>\n",
       "      <td>0.965221</td>\n",
       "      <td>27804.572129</td>\n",
       "      <td>28806.429798</td>\n",
       "    </tr>\n",
       "    <tr>\n",
       "      <th>2020-12-30 23:57:00</th>\n",
       "      <td>28829.42</td>\n",
       "      <td>28863.90</td>\n",
       "      <td>28829.42</td>\n",
       "      <td>28857.06</td>\n",
       "      <td>2.368831</td>\n",
       "      <td>68332.350629</td>\n",
       "      <td>28846.441863</td>\n",
       "    </tr>\n",
       "    <tr>\n",
       "      <th>2020-12-30 23:58:00</th>\n",
       "      <td>28850.49</td>\n",
       "      <td>28900.52</td>\n",
       "      <td>28850.49</td>\n",
       "      <td>28882.82</td>\n",
       "      <td>2.466590</td>\n",
       "      <td>71232.784464</td>\n",
       "      <td>28879.056266</td>\n",
       "    </tr>\n",
       "    <tr>\n",
       "      <th>2020-12-30 23:59:00</th>\n",
       "      <td>28910.54</td>\n",
       "      <td>28911.52</td>\n",
       "      <td>28867.60</td>\n",
       "      <td>28881.30</td>\n",
       "      <td>7.332773</td>\n",
       "      <td>211870.912660</td>\n",
       "      <td>28893.695831</td>\n",
       "    </tr>\n",
       "    <tr>\n",
       "      <th>2020-12-31 00:00:00</th>\n",
       "      <td>28893.21</td>\n",
       "      <td>28928.49</td>\n",
       "      <td>28893.21</td>\n",
       "      <td>28928.49</td>\n",
       "      <td>5.757679</td>\n",
       "      <td>166449.709320</td>\n",
       "      <td>28909.166061</td>\n",
       "    </tr>\n",
       "  </tbody>\n",
       "</table>\n",
       "</div>"
      ],
      "text/plain": [
       "                         Open      High       Low     Close  Volume_(BTC)  \\\n",
       "2020-12-30 23:56:00  28801.47  28829.42  28785.64  28829.42      0.965221   \n",
       "2020-12-30 23:57:00  28829.42  28863.90  28829.42  28857.06      2.368831   \n",
       "2020-12-30 23:58:00  28850.49  28900.52  28850.49  28882.82      2.466590   \n",
       "2020-12-30 23:59:00  28910.54  28911.52  28867.60  28881.30      7.332773   \n",
       "2020-12-31 00:00:00  28893.21  28928.49  28893.21  28928.49      5.757679   \n",
       "\n",
       "                     Volume_(Currency)  Weighted_Price  \n",
       "2020-12-30 23:56:00       27804.572129    28806.429798  \n",
       "2020-12-30 23:57:00       68332.350629    28846.441863  \n",
       "2020-12-30 23:58:00       71232.784464    28879.056266  \n",
       "2020-12-30 23:59:00      211870.912660    28893.695831  \n",
       "2020-12-31 00:00:00      166449.709320    28909.166061  "
      ]
     },
     "execution_count": 38,
     "metadata": {},
     "output_type": "execute_result"
    }
   ],
   "source": [
    "df.tail()"
   ]
  },
  {
   "cell_type": "code",
   "execution_count": 57,
   "metadata": {
    "ExecuteTime": {
     "end_time": "2021-03-04T13:01:37.703083Z",
     "start_time": "2021-03-04T13:01:37.490694Z"
    }
   },
   "outputs": [],
   "source": [
    "aggregated_df = df.resample('1D').agg({'Open': 'first', \n",
    "                       'High': 'max',\n",
    "                       'Low': 'min',\n",
    "                       'Close': 'last',\n",
    "                       'Volume_(Currency)': 'sum'\n",
    "                      })"
   ]
  },
  {
   "cell_type": "code",
   "execution_count": 58,
   "metadata": {
    "ExecuteTime": {
     "end_time": "2021-03-04T13:01:47.005839Z",
     "start_time": "2021-03-04T13:01:46.495041Z"
    }
   },
   "outputs": [
    {
     "data": {
      "text/plain": [
       "Text(0.5, 1.0, 'BTC Through Time')"
      ]
     },
     "execution_count": 58,
     "metadata": {},
     "output_type": "execute_result"
    },
    {
     "data": {
      "image/png": "[encoded data removed]",
      "text/plain": [
       "<Figure size 1296x432 with 2 Axes>"
      ]
     },
     "metadata": {
      "needs_background": "light"
     },
     "output_type": "display_data"
    }
   ],
   "source": [
    "aggregated_df.drop('Volume_(Currency)', axis=1).plot();\n",
    "plt.ylabel(\"Prices\")\n",
    "aggregated_df['Volume_(Currency)'].plot(secondary_y=True);\n",
    "plt.ylabel(\"Volume\");\n",
    "plt.title(\"BTC Through Time\")"
   ]
  },
  {
   "cell_type": "code",
   "execution_count": 61,
   "metadata": {
    "ExecuteTime": {
     "end_time": "2021-03-04T13:03:26.442338Z",
     "start_time": "2021-03-04T13:03:26.106798Z"
    }
   },
   "outputs": [
    {
     "data": {
      "text/html": [
       "<div>\n",
       "<style scoped>\n",
       "    .dataframe tbody tr th:only-of-type {\n",
       "        vertical-align: middle;\n",
       "    }\n",
       "\n",
       "    .dataframe tbody tr th {\n",
       "        vertical-align: top;\n",
       "    }\n",
       "\n",
       "    .dataframe thead th {\n",
       "        text-align: right;\n",
       "    }\n",
       "</style>\n",
       "<table border=\"1\" class=\"dataframe\">\n",
       "  <thead>\n",
       "    <tr style=\"text-align: right;\">\n",
       "      <th></th>\n",
       "      <th>Open</th>\n",
       "      <th>High</th>\n",
       "      <th>Low</th>\n",
       "      <th>Close</th>\n",
       "      <th>Volume_(BTC)</th>\n",
       "      <th>Volume_(Currency)</th>\n",
       "      <th>Weighted_Price</th>\n",
       "    </tr>\n",
       "  </thead>\n",
       "  <tbody>\n",
       "    <tr>\n",
       "      <th>2011-12-31 07:52:00</th>\n",
       "      <td>4.39</td>\n",
       "      <td>4.39</td>\n",
       "      <td>4.39</td>\n",
       "      <td>4.39</td>\n",
       "      <td>0.455581</td>\n",
       "      <td>2.000000</td>\n",
       "      <td>4.390000</td>\n",
       "    </tr>\n",
       "    <tr>\n",
       "      <th>2011-12-31 15:50:00</th>\n",
       "      <td>4.39</td>\n",
       "      <td>4.39</td>\n",
       "      <td>4.39</td>\n",
       "      <td>4.39</td>\n",
       "      <td>48.000000</td>\n",
       "      <td>210.720000</td>\n",
       "      <td>4.390000</td>\n",
       "    </tr>\n",
       "    <tr>\n",
       "      <th>2011-12-31 16:59:00</th>\n",
       "      <td>4.50</td>\n",
       "      <td>4.57</td>\n",
       "      <td>4.50</td>\n",
       "      <td>4.57</td>\n",
       "      <td>37.862297</td>\n",
       "      <td>171.380338</td>\n",
       "      <td>4.526411</td>\n",
       "    </tr>\n",
       "    <tr>\n",
       "      <th>2011-12-31 17:00:00</th>\n",
       "      <td>4.58</td>\n",
       "      <td>4.58</td>\n",
       "      <td>4.58</td>\n",
       "      <td>4.58</td>\n",
       "      <td>9.000000</td>\n",
       "      <td>41.220000</td>\n",
       "      <td>4.580000</td>\n",
       "    </tr>\n",
       "    <tr>\n",
       "      <th>2012-01-01 04:16:00</th>\n",
       "      <td>4.58</td>\n",
       "      <td>4.58</td>\n",
       "      <td>4.58</td>\n",
       "      <td>4.58</td>\n",
       "      <td>1.502000</td>\n",
       "      <td>6.879160</td>\n",
       "      <td>4.580000</td>\n",
       "    </tr>\n",
       "  </tbody>\n",
       "</table>\n",
       "</div>"
      ],
      "text/plain": [
       "                     Open  High   Low  Close  Volume_(BTC)  Volume_(Currency)  \\\n",
       "2011-12-31 07:52:00  4.39  4.39  4.39   4.39      0.455581           2.000000   \n",
       "2011-12-31 15:50:00  4.39  4.39  4.39   4.39     48.000000         210.720000   \n",
       "2011-12-31 16:59:00  4.50  4.57  4.50   4.57     37.862297         171.380338   \n",
       "2011-12-31 17:00:00  4.58  4.58  4.58   4.58      9.000000          41.220000   \n",
       "2012-01-01 04:16:00  4.58  4.58  4.58   4.58      1.502000           6.879160   \n",
       "\n",
       "                     Weighted_Price  \n",
       "2011-12-31 07:52:00        4.390000  \n",
       "2011-12-31 15:50:00        4.390000  \n",
       "2011-12-31 16:59:00        4.526411  \n",
       "2011-12-31 17:00:00        4.580000  \n",
       "2012-01-01 04:16:00        4.580000  "
      ]
     },
     "execution_count": 61,
     "metadata": {},
     "output_type": "execute_result"
    }
   ],
   "source": [
    "df.dropna().head()"
   ]
  },
  {
   "cell_type": "markdown",
   "metadata": {},
   "source": [
    "## What is the format of the dates in the data? From what date to what date and at what granularity?"
   ]
  },
  {
   "cell_type": "markdown",
   "metadata": {},
   "source": [
    "Minute by minute.\n",
    "From 2011 to 2020."
   ]
  },
  {
   "cell_type": "markdown",
   "metadata": {},
   "source": [
    "## How many NaNs do we have? Are they at specific hours? Why are they NaNs?"
   ]
  },
  {
   "cell_type": "code",
   "execution_count": 68,
   "metadata": {
    "ExecuteTime": {
     "end_time": "2021-03-04T13:04:28.021503Z",
     "start_time": "2021-03-04T13:04:27.598788Z"
    }
   },
   "outputs": [
    {
     "data": {
      "text/plain": [
       "<AxesSubplot:>"
      ]
     },
     "execution_count": 68,
     "metadata": {},
     "output_type": "execute_result"
    },
    {
     "data": {
      "image/png": "[encoded data removed]",
      "text/plain": [
       "<Figure size 1296x432 with 1 Axes>"
      ]
     },
     "metadata": {
      "needs_background": "light"
     },
     "output_type": "display_data"
    }
   ],
   "source": [
    "df['Open'].isna().resample('1D').sum().plot()"
   ]
  },
  {
   "cell_type": "code",
   "execution_count": 71,
   "metadata": {
    "ExecuteTime": {
     "end_time": "2021-03-04T13:05:08.567096Z",
     "start_time": "2021-03-04T13:05:08.489727Z"
    }
   },
   "outputs": [],
   "source": [
    "nans = df['Open'].isna().resample('1H').sum()"
   ]
  },
  {
   "cell_type": "code",
   "execution_count": 75,
   "metadata": {
    "ExecuteTime": {
     "end_time": "2021-03-04T13:05:15.958920Z",
     "start_time": "2021-03-04T13:05:15.953307Z"
    }
   },
   "outputs": [],
   "source": [
    "nans.index = nans.index.hour"
   ]
  },
  {
   "cell_type": "code",
   "execution_count": 78,
   "metadata": {
    "ExecuteTime": {
     "end_time": "2021-03-04T13:05:27.132976Z",
     "start_time": "2021-03-04T13:05:26.920522Z"
    }
   },
   "outputs": [
    {
     "data": {
      "text/plain": [
       "<AxesSubplot:>"
      ]
     },
     "execution_count": 78,
     "metadata": {},
     "output_type": "execute_result"
    },
    {
     "data": {
      "image/png": "[encoded data removed]",
      "text/plain": [
       "<Figure size 1296x432 with 1 Axes>"
      ]
     },
     "metadata": {
      "needs_background": "light"
     },
     "output_type": "display_data"
    }
   ],
   "source": [
    "nans.groupby(nans.index).sum().plot()"
   ]
  },
  {
   "cell_type": "markdown",
   "metadata": {},
   "source": [
    "## Let's see what happened in 2017..."
   ]
  },
  {
   "cell_type": "code",
   "execution_count": 79,
   "metadata": {
    "ExecuteTime": {
     "end_time": "2021-03-04T13:06:06.095173Z",
     "start_time": "2021-03-04T13:06:06.092985Z"
    }
   },
   "outputs": [],
   "source": [
    "# Print the first 20 rows"
   ]
  },
  {
   "cell_type": "code",
   "execution_count": 86,
   "metadata": {
    "ExecuteTime": {
     "end_time": "2021-03-04T13:07:01.502731Z",
     "start_time": "2021-03-04T13:07:01.482400Z"
    }
   },
   "outputs": [
    {
     "data": {
      "text/html": [
       "<div>\n",
       "<style scoped>\n",
       "    .dataframe tbody tr th:only-of-type {\n",
       "        vertical-align: middle;\n",
       "    }\n",
       "\n",
       "    .dataframe tbody tr th {\n",
       "        vertical-align: top;\n",
       "    }\n",
       "\n",
       "    .dataframe thead th {\n",
       "        text-align: right;\n",
       "    }\n",
       "</style>\n",
       "<table border=\"1\" class=\"dataframe\">\n",
       "  <thead>\n",
       "    <tr style=\"text-align: right;\">\n",
       "      <th></th>\n",
       "      <th>Open</th>\n",
       "      <th>High</th>\n",
       "      <th>Low</th>\n",
       "      <th>Close</th>\n",
       "      <th>Volume_(BTC)</th>\n",
       "      <th>Volume_(Currency)</th>\n",
       "      <th>Weighted_Price</th>\n",
       "    </tr>\n",
       "  </thead>\n",
       "  <tbody>\n",
       "    <tr>\n",
       "      <th>2017-01-07 00:00:00</th>\n",
       "      <td>894.02</td>\n",
       "      <td>895.50</td>\n",
       "      <td>894.02</td>\n",
       "      <td>895.50</td>\n",
       "      <td>0.363000</td>\n",
       "      <td>324.548500</td>\n",
       "      <td>894.073003</td>\n",
       "    </tr>\n",
       "    <tr>\n",
       "      <th>2017-01-07 00:01:00</th>\n",
       "      <td>895.50</td>\n",
       "      <td>895.95</td>\n",
       "      <td>894.06</td>\n",
       "      <td>895.88</td>\n",
       "      <td>0.476591</td>\n",
       "      <td>426.613245</td>\n",
       "      <td>895.134917</td>\n",
       "    </tr>\n",
       "    <tr>\n",
       "      <th>2017-01-07 00:02:00</th>\n",
       "      <td>892.52</td>\n",
       "      <td>892.78</td>\n",
       "      <td>892.00</td>\n",
       "      <td>892.00</td>\n",
       "      <td>50.350000</td>\n",
       "      <td>44918.526467</td>\n",
       "      <td>892.125650</td>\n",
       "    </tr>\n",
       "    <tr>\n",
       "      <th>2017-01-07 00:03:00</th>\n",
       "      <td>892.00</td>\n",
       "      <td>892.00</td>\n",
       "      <td>891.57</td>\n",
       "      <td>891.64</td>\n",
       "      <td>0.700000</td>\n",
       "      <td>624.139582</td>\n",
       "      <td>891.627974</td>\n",
       "    </tr>\n",
       "    <tr>\n",
       "      <th>2017-01-07 00:04:00</th>\n",
       "      <td>891.67</td>\n",
       "      <td>894.56</td>\n",
       "      <td>891.56</td>\n",
       "      <td>894.38</td>\n",
       "      <td>26.982171</td>\n",
       "      <td>24059.920693</td>\n",
       "      <td>891.696984</td>\n",
       "    </tr>\n",
       "    <tr>\n",
       "      <th>...</th>\n",
       "      <td>...</td>\n",
       "      <td>...</td>\n",
       "      <td>...</td>\n",
       "      <td>...</td>\n",
       "      <td>...</td>\n",
       "      <td>...</td>\n",
       "      <td>...</td>\n",
       "    </tr>\n",
       "    <tr>\n",
       "      <th>2017-05-07 23:55:00</th>\n",
       "      <td>1555.87</td>\n",
       "      <td>1555.87</td>\n",
       "      <td>1555.87</td>\n",
       "      <td>1555.87</td>\n",
       "      <td>0.323525</td>\n",
       "      <td>503.362748</td>\n",
       "      <td>1555.870000</td>\n",
       "    </tr>\n",
       "    <tr>\n",
       "      <th>2017-05-07 23:56:00</th>\n",
       "      <td>NaN</td>\n",
       "      <td>NaN</td>\n",
       "      <td>NaN</td>\n",
       "      <td>NaN</td>\n",
       "      <td>NaN</td>\n",
       "      <td>NaN</td>\n",
       "      <td>NaN</td>\n",
       "    </tr>\n",
       "    <tr>\n",
       "      <th>2017-05-07 23:57:00</th>\n",
       "      <td>1554.20</td>\n",
       "      <td>1555.19</td>\n",
       "      <td>1553.04</td>\n",
       "      <td>1554.38</td>\n",
       "      <td>2.469762</td>\n",
       "      <td>3836.421036</td>\n",
       "      <td>1553.356478</td>\n",
       "    </tr>\n",
       "    <tr>\n",
       "      <th>2017-05-07 23:58:00</th>\n",
       "      <td>1553.05</td>\n",
       "      <td>1554.38</td>\n",
       "      <td>1553.04</td>\n",
       "      <td>1554.38</td>\n",
       "      <td>2.372877</td>\n",
       "      <td>3687.853958</td>\n",
       "      <td>1554.170186</td>\n",
       "    </tr>\n",
       "    <tr>\n",
       "      <th>2017-05-07 23:59:00</th>\n",
       "      <td>1554.01</td>\n",
       "      <td>1554.38</td>\n",
       "      <td>1554.01</td>\n",
       "      <td>1554.01</td>\n",
       "      <td>2.098400</td>\n",
       "      <td>3260.989604</td>\n",
       "      <td>1554.036383</td>\n",
       "    </tr>\n",
       "  </tbody>\n",
       "</table>\n",
       "<p>174240 rows × 7 columns</p>\n",
       "</div>"
      ],
      "text/plain": [
       "                        Open     High      Low    Close  Volume_(BTC)  \\\n",
       "2017-01-07 00:00:00   894.02   895.50   894.02   895.50      0.363000   \n",
       "2017-01-07 00:01:00   895.50   895.95   894.06   895.88      0.476591   \n",
       "2017-01-07 00:02:00   892.52   892.78   892.00   892.00     50.350000   \n",
       "2017-01-07 00:03:00   892.00   892.00   891.57   891.64      0.700000   \n",
       "2017-01-07 00:04:00   891.67   894.56   891.56   894.38     26.982171   \n",
       "...                      ...      ...      ...      ...           ...   \n",
       "2017-05-07 23:55:00  1555.87  1555.87  1555.87  1555.87      0.323525   \n",
       "2017-05-07 23:56:00      NaN      NaN      NaN      NaN           NaN   \n",
       "2017-05-07 23:57:00  1554.20  1555.19  1553.04  1554.38      2.469762   \n",
       "2017-05-07 23:58:00  1553.05  1554.38  1553.04  1554.38      2.372877   \n",
       "2017-05-07 23:59:00  1554.01  1554.38  1554.01  1554.01      2.098400   \n",
       "\n",
       "                     Volume_(Currency)  Weighted_Price  \n",
       "2017-01-07 00:00:00         324.548500      894.073003  \n",
       "2017-01-07 00:01:00         426.613245      895.134917  \n",
       "2017-01-07 00:02:00       44918.526467      892.125650  \n",
       "2017-01-07 00:03:00         624.139582      891.627974  \n",
       "2017-01-07 00:04:00       24059.920693      891.696984  \n",
       "...                                ...             ...  \n",
       "2017-05-07 23:55:00         503.362748     1555.870000  \n",
       "2017-05-07 23:56:00                NaN             NaN  \n",
       "2017-05-07 23:57:00        3836.421036     1553.356478  \n",
       "2017-05-07 23:58:00        3687.853958     1554.170186  \n",
       "2017-05-07 23:59:00        3260.989604     1554.036383  \n",
       "\n",
       "[174240 rows x 7 columns]"
      ]
     },
     "execution_count": 86,
     "metadata": {},
     "output_type": "execute_result"
    }
   ],
   "source": [
    "df.loc['2017-01-07':'2017-05-07']"
   ]
  },
  {
   "cell_type": "code",
   "execution_count": 88,
   "metadata": {
    "ExecuteTime": {
     "end_time": "2021-03-04T13:08:05.094449Z",
     "start_time": "2021-03-04T13:08:04.555914Z"
    }
   },
   "outputs": [
    {
     "data": {
      "text/html": [
       "<div>\n",
       "<style scoped>\n",
       "    .dataframe tbody tr th:only-of-type {\n",
       "        vertical-align: middle;\n",
       "    }\n",
       "\n",
       "    .dataframe tbody tr th {\n",
       "        vertical-align: top;\n",
       "    }\n",
       "\n",
       "    .dataframe thead th {\n",
       "        text-align: right;\n",
       "    }\n",
       "</style>\n",
       "<table border=\"1\" class=\"dataframe\">\n",
       "  <thead>\n",
       "    <tr style=\"text-align: right;\">\n",
       "      <th></th>\n",
       "      <th>Open</th>\n",
       "      <th>High</th>\n",
       "      <th>Low</th>\n",
       "      <th>Close</th>\n",
       "      <th>Volume_(BTC)</th>\n",
       "      <th>Volume_(Currency)</th>\n",
       "      <th>Weighted_Price</th>\n",
       "    </tr>\n",
       "  </thead>\n",
       "  <tbody>\n",
       "    <tr>\n",
       "      <th>2012-01-01 15:28:00</th>\n",
       "      <td>4.84</td>\n",
       "      <td>4.84</td>\n",
       "      <td>4.84</td>\n",
       "      <td>4.84</td>\n",
       "      <td>10.000000</td>\n",
       "      <td>48.400000</td>\n",
       "      <td>4.840000</td>\n",
       "    </tr>\n",
       "    <tr>\n",
       "      <th>2012-01-03 11:45:00</th>\n",
       "      <td>5.32</td>\n",
       "      <td>5.32</td>\n",
       "      <td>5.32</td>\n",
       "      <td>5.32</td>\n",
       "      <td>2.419173</td>\n",
       "      <td>12.870000</td>\n",
       "      <td>5.320000</td>\n",
       "    </tr>\n",
       "    <tr>\n",
       "      <th>2012-01-03 14:22:00</th>\n",
       "      <td>5.14</td>\n",
       "      <td>5.14</td>\n",
       "      <td>5.14</td>\n",
       "      <td>5.14</td>\n",
       "      <td>0.680000</td>\n",
       "      <td>3.495200</td>\n",
       "      <td>5.140000</td>\n",
       "    </tr>\n",
       "    <tr>\n",
       "      <th>2012-01-03 14:54:00</th>\n",
       "      <td>5.26</td>\n",
       "      <td>5.26</td>\n",
       "      <td>5.26</td>\n",
       "      <td>5.26</td>\n",
       "      <td>29.319392</td>\n",
       "      <td>154.220000</td>\n",
       "      <td>5.260000</td>\n",
       "    </tr>\n",
       "    <tr>\n",
       "      <th>2012-01-04 12:41:00</th>\n",
       "      <td>5.19</td>\n",
       "      <td>5.19</td>\n",
       "      <td>5.19</td>\n",
       "      <td>5.19</td>\n",
       "      <td>2.641619</td>\n",
       "      <td>13.710000</td>\n",
       "      <td>5.190000</td>\n",
       "    </tr>\n",
       "    <tr>\n",
       "      <th>...</th>\n",
       "      <td>...</td>\n",
       "      <td>...</td>\n",
       "      <td>...</td>\n",
       "      <td>...</td>\n",
       "      <td>...</td>\n",
       "      <td>...</td>\n",
       "      <td>...</td>\n",
       "    </tr>\n",
       "    <tr>\n",
       "      <th>2020-12-30 15:26:00</th>\n",
       "      <td>28167.41</td>\n",
       "      <td>28178.21</td>\n",
       "      <td>28152.93</td>\n",
       "      <td>28164.30</td>\n",
       "      <td>1.295089</td>\n",
       "      <td>36481.982278</td>\n",
       "      <td>28169.489573</td>\n",
       "    </tr>\n",
       "    <tr>\n",
       "      <th>2020-12-30 15:27:00</th>\n",
       "      <td>28177.24</td>\n",
       "      <td>28177.24</td>\n",
       "      <td>28157.00</td>\n",
       "      <td>28165.85</td>\n",
       "      <td>0.749515</td>\n",
       "      <td>21114.178591</td>\n",
       "      <td>28170.459901</td>\n",
       "    </tr>\n",
       "    <tr>\n",
       "      <th>2020-12-30 15:28:00</th>\n",
       "      <td>28165.85</td>\n",
       "      <td>28170.68</td>\n",
       "      <td>28139.81</td>\n",
       "      <td>28139.81</td>\n",
       "      <td>4.008929</td>\n",
       "      <td>112862.069030</td>\n",
       "      <td>28152.672398</td>\n",
       "    </tr>\n",
       "    <tr>\n",
       "      <th>2020-12-30 15:29:00</th>\n",
       "      <td>28153.52</td>\n",
       "      <td>28160.55</td>\n",
       "      <td>28145.92</td>\n",
       "      <td>28153.75</td>\n",
       "      <td>1.537446</td>\n",
       "      <td>43289.042692</td>\n",
       "      <td>28156.462366</td>\n",
       "    </tr>\n",
       "    <tr>\n",
       "      <th>2020-12-30 15:30:00</th>\n",
       "      <td>28144.39</td>\n",
       "      <td>28144.39</td>\n",
       "      <td>28102.64</td>\n",
       "      <td>28117.00</td>\n",
       "      <td>0.319223</td>\n",
       "      <td>8975.634026</td>\n",
       "      <td>28117.096524</td>\n",
       "    </tr>\n",
       "  </tbody>\n",
       "</table>\n",
       "<p>982644 rows × 7 columns</p>\n",
       "</div>"
      ],
      "text/plain": [
       "                         Open      High       Low     Close  Volume_(BTC)  \\\n",
       "2012-01-01 15:28:00      4.84      4.84      4.84      4.84     10.000000   \n",
       "2012-01-03 11:45:00      5.32      5.32      5.32      5.32      2.419173   \n",
       "2012-01-03 14:22:00      5.14      5.14      5.14      5.14      0.680000   \n",
       "2012-01-03 14:54:00      5.26      5.26      5.26      5.26     29.319392   \n",
       "2012-01-04 12:41:00      5.19      5.19      5.19      5.19      2.641619   \n",
       "...                       ...       ...       ...       ...           ...   \n",
       "2020-12-30 15:26:00  28167.41  28178.21  28152.93  28164.30      1.295089   \n",
       "2020-12-30 15:27:00  28177.24  28177.24  28157.00  28165.85      0.749515   \n",
       "2020-12-30 15:28:00  28165.85  28170.68  28139.81  28139.81      4.008929   \n",
       "2020-12-30 15:29:00  28153.52  28160.55  28145.92  28153.75      1.537446   \n",
       "2020-12-30 15:30:00  28144.39  28144.39  28102.64  28117.00      0.319223   \n",
       "\n",
       "                     Volume_(Currency)  Weighted_Price  \n",
       "2012-01-01 15:28:00          48.400000        4.840000  \n",
       "2012-01-03 11:45:00          12.870000        5.320000  \n",
       "2012-01-03 14:22:00           3.495200        5.140000  \n",
       "2012-01-03 14:54:00         154.220000        5.260000  \n",
       "2012-01-04 12:41:00          13.710000        5.190000  \n",
       "...                                ...             ...  \n",
       "2020-12-30 15:26:00       36481.982278    28169.489573  \n",
       "2020-12-30 15:27:00       21114.178591    28170.459901  \n",
       "2020-12-30 15:28:00      112862.069030    28152.672398  \n",
       "2020-12-30 15:29:00       43289.042692    28156.462366  \n",
       "2020-12-30 15:30:00        8975.634026    28117.096524  \n",
       "\n",
       "[982644 rows x 7 columns]"
      ]
     },
     "execution_count": 88,
     "metadata": {},
     "output_type": "execute_result"
    }
   ],
   "source": [
    "df.dropna().between_time('9:00', '15:30')"
   ]
  },
  {
   "cell_type": "markdown",
   "metadata": {},
   "source": [
    "## We need to fill in the missing data, or can we get rid of it?"
   ]
  },
  {
   "cell_type": "code",
   "execution_count": 89,
   "metadata": {
    "ExecuteTime": {
     "end_time": "2021-03-04T13:08:31.409297Z",
     "start_time": "2021-03-04T13:08:31.406760Z"
    }
   },
   "outputs": [],
   "source": [
    "## This is an art as much as it is a science....\n",
    "# Fill the data accordingly, column by column."
   ]
  },
  {
   "cell_type": "code",
   "execution_count": 93,
   "metadata": {
    "ExecuteTime": {
     "end_time": "2021-03-04T13:09:17.512316Z",
     "start_time": "2021-03-04T13:09:17.507794Z"
    }
   },
   "outputs": [],
   "source": [
    "df2 = df['2017']"
   ]
  },
  {
   "cell_type": "code",
   "execution_count": 98,
   "metadata": {
    "ExecuteTime": {
     "end_time": "2021-03-04T13:10:18.912466Z",
     "start_time": "2021-03-04T13:10:18.900310Z"
    }
   },
   "outputs": [
    {
     "data": {
      "text/html": [
       "<div>\n",
       "<style scoped>\n",
       "    .dataframe tbody tr th:only-of-type {\n",
       "        vertical-align: middle;\n",
       "    }\n",
       "\n",
       "    .dataframe tbody tr th {\n",
       "        vertical-align: top;\n",
       "    }\n",
       "\n",
       "    .dataframe thead th {\n",
       "        text-align: right;\n",
       "    }\n",
       "</style>\n",
       "<table border=\"1\" class=\"dataframe\">\n",
       "  <thead>\n",
       "    <tr style=\"text-align: right;\">\n",
       "      <th></th>\n",
       "      <th>Open</th>\n",
       "      <th>High</th>\n",
       "      <th>Low</th>\n",
       "      <th>Close</th>\n",
       "      <th>Volume_(BTC)</th>\n",
       "      <th>Volume_(Currency)</th>\n",
       "      <th>Weighted_Price</th>\n",
       "    </tr>\n",
       "  </thead>\n",
       "  <tbody>\n",
       "    <tr>\n",
       "      <th>2017-01-01 00:00:00</th>\n",
       "      <td>NaN</td>\n",
       "      <td>NaN</td>\n",
       "      <td>NaN</td>\n",
       "      <td>NaN</td>\n",
       "      <td>NaN</td>\n",
       "      <td>NaN</td>\n",
       "      <td>NaN</td>\n",
       "    </tr>\n",
       "    <tr>\n",
       "      <th>2017-01-01 00:01:00</th>\n",
       "      <td>966.34</td>\n",
       "      <td>966.34</td>\n",
       "      <td>966.34</td>\n",
       "      <td>966.34</td>\n",
       "      <td>7.610000</td>\n",
       "      <td>7353.847400</td>\n",
       "      <td>966.340000</td>\n",
       "    </tr>\n",
       "    <tr>\n",
       "      <th>2017-01-01 00:02:00</th>\n",
       "      <td>966.16</td>\n",
       "      <td>966.37</td>\n",
       "      <td>966.16</td>\n",
       "      <td>966.37</td>\n",
       "      <td>8.087376</td>\n",
       "      <td>7814.876061</td>\n",
       "      <td>966.305479</td>\n",
       "    </tr>\n",
       "    <tr>\n",
       "      <th>2017-01-01 00:03:00</th>\n",
       "      <td>NaN</td>\n",
       "      <td>NaN</td>\n",
       "      <td>NaN</td>\n",
       "      <td>NaN</td>\n",
       "      <td>NaN</td>\n",
       "      <td>NaN</td>\n",
       "      <td>NaN</td>\n",
       "    </tr>\n",
       "    <tr>\n",
       "      <th>2017-01-01 00:04:00</th>\n",
       "      <td>NaN</td>\n",
       "      <td>NaN</td>\n",
       "      <td>NaN</td>\n",
       "      <td>NaN</td>\n",
       "      <td>NaN</td>\n",
       "      <td>NaN</td>\n",
       "      <td>NaN</td>\n",
       "    </tr>\n",
       "  </tbody>\n",
       "</table>\n",
       "</div>"
      ],
      "text/plain": [
       "                       Open    High     Low   Close  Volume_(BTC)  \\\n",
       "2017-01-01 00:00:00     NaN     NaN     NaN     NaN           NaN   \n",
       "2017-01-01 00:01:00  966.34  966.34  966.34  966.34      7.610000   \n",
       "2017-01-01 00:02:00  966.16  966.37  966.16  966.37      8.087376   \n",
       "2017-01-01 00:03:00     NaN     NaN     NaN     NaN           NaN   \n",
       "2017-01-01 00:04:00     NaN     NaN     NaN     NaN           NaN   \n",
       "\n",
       "                     Volume_(Currency)  Weighted_Price  \n",
       "2017-01-01 00:00:00                NaN             NaN  \n",
       "2017-01-01 00:01:00        7353.847400      966.340000  \n",
       "2017-01-01 00:02:00        7814.876061      966.305479  \n",
       "2017-01-01 00:03:00                NaN             NaN  \n",
       "2017-01-01 00:04:00                NaN             NaN  "
      ]
     },
     "execution_count": 98,
     "metadata": {},
     "output_type": "execute_result"
    }
   ],
   "source": [
    "df2.head()"
   ]
  },
  {
   "cell_type": "code",
   "execution_count": null,
   "metadata": {
    "ExecuteTime": {
     "end_time": "2021-03-04T13:12:24.320949Z",
     "start_time": "2021-03-04T13:12:24.292950Z"
    }
   },
   "outputs": [],
   "source": [
    "df2['Open'] = df2['Open'].ffill()\n",
    "df2['High'] = df2['High'].ffill()\n",
    "df2['Low'] = df2['Low'].ffill()\n",
    "df2['Close'] = df2['Close'].ffill()\n",
    "df2['Volume_(BTC)'] = df2['Volume_(BTC)'].fillna(0)\n",
    "df2['Volume_(Currency)'] = df2['Volume_(Currency)'].fillna(0)\n",
    "df2['Weighted_Price'] = df2['Weighted_Price'].fillna(0)"
   ]
  },
  {
   "cell_type": "code",
   "execution_count": 107,
   "metadata": {
    "ExecuteTime": {
     "end_time": "2021-03-04T13:13:01.336229Z",
     "start_time": "2021-03-04T13:13:01.296724Z"
    }
   },
   "outputs": [
    {
     "name": "stderr",
     "output_type": "stream",
     "text": [
      "<ipython-input-107-f66736151044>:1: SettingWithCopyWarning: \n",
      "A value is trying to be set on a copy of a slice from a DataFrame\n",
      "\n",
      "See the caveats in the documentation: https://pandas.pydata.org/pandas-docs/stable/user_guide/indexing.html#returning-a-view-versus-a-copy\n",
      "  df2.dropna(inplace=True)\n"
     ]
    }
   ],
   "source": [
    "df2.dropna(inplace=True)"
   ]
  },
  {
   "cell_type": "code",
   "execution_count": 108,
   "metadata": {
    "ExecuteTime": {
     "end_time": "2021-03-04T13:13:03.386560Z",
     "start_time": "2021-03-04T13:13:03.368189Z"
    }
   },
   "outputs": [
    {
     "data": {
      "text/html": [
       "<div>\n",
       "<style scoped>\n",
       "    .dataframe tbody tr th:only-of-type {\n",
       "        vertical-align: middle;\n",
       "    }\n",
       "\n",
       "    .dataframe tbody tr th {\n",
       "        vertical-align: top;\n",
       "    }\n",
       "\n",
       "    .dataframe thead th {\n",
       "        text-align: right;\n",
       "    }\n",
       "</style>\n",
       "<table border=\"1\" class=\"dataframe\">\n",
       "  <thead>\n",
       "    <tr style=\"text-align: right;\">\n",
       "      <th></th>\n",
       "      <th>Open</th>\n",
       "      <th>High</th>\n",
       "      <th>Low</th>\n",
       "      <th>Close</th>\n",
       "      <th>Volume_(BTC)</th>\n",
       "      <th>Volume_(Currency)</th>\n",
       "      <th>Weighted_Price</th>\n",
       "    </tr>\n",
       "  </thead>\n",
       "  <tbody>\n",
       "    <tr>\n",
       "      <th>2017-01-01 00:01:00</th>\n",
       "      <td>966.34</td>\n",
       "      <td>966.34</td>\n",
       "      <td>966.34</td>\n",
       "      <td>966.34</td>\n",
       "      <td>7.610000</td>\n",
       "      <td>7353.847400</td>\n",
       "      <td>966.340000</td>\n",
       "    </tr>\n",
       "    <tr>\n",
       "      <th>2017-01-01 00:02:00</th>\n",
       "      <td>966.16</td>\n",
       "      <td>966.37</td>\n",
       "      <td>966.16</td>\n",
       "      <td>966.37</td>\n",
       "      <td>8.087376</td>\n",
       "      <td>7814.876061</td>\n",
       "      <td>966.305479</td>\n",
       "    </tr>\n",
       "    <tr>\n",
       "      <th>2017-01-01 00:03:00</th>\n",
       "      <td>966.16</td>\n",
       "      <td>966.37</td>\n",
       "      <td>966.16</td>\n",
       "      <td>966.37</td>\n",
       "      <td>0.000000</td>\n",
       "      <td>0.000000</td>\n",
       "      <td>0.000000</td>\n",
       "    </tr>\n",
       "    <tr>\n",
       "      <th>2017-01-01 00:04:00</th>\n",
       "      <td>966.16</td>\n",
       "      <td>966.37</td>\n",
       "      <td>966.16</td>\n",
       "      <td>966.37</td>\n",
       "      <td>0.000000</td>\n",
       "      <td>0.000000</td>\n",
       "      <td>0.000000</td>\n",
       "    </tr>\n",
       "    <tr>\n",
       "      <th>2017-01-01 00:05:00</th>\n",
       "      <td>966.43</td>\n",
       "      <td>966.43</td>\n",
       "      <td>966.43</td>\n",
       "      <td>966.43</td>\n",
       "      <td>0.107000</td>\n",
       "      <td>103.408010</td>\n",
       "      <td>966.430000</td>\n",
       "    </tr>\n",
       "    <tr>\n",
       "      <th>...</th>\n",
       "      <td>...</td>\n",
       "      <td>...</td>\n",
       "      <td>...</td>\n",
       "      <td>...</td>\n",
       "      <td>...</td>\n",
       "      <td>...</td>\n",
       "      <td>...</td>\n",
       "    </tr>\n",
       "    <tr>\n",
       "      <th>2017-12-31 23:55:00</th>\n",
       "      <td>13825.05</td>\n",
       "      <td>13825.05</td>\n",
       "      <td>13825.05</td>\n",
       "      <td>13825.05</td>\n",
       "      <td>0.065501</td>\n",
       "      <td>905.560130</td>\n",
       "      <td>13825.050000</td>\n",
       "    </tr>\n",
       "    <tr>\n",
       "      <th>2017-12-31 23:56:00</th>\n",
       "      <td>13827.00</td>\n",
       "      <td>13908.69</td>\n",
       "      <td>13827.00</td>\n",
       "      <td>13859.58</td>\n",
       "      <td>0.666459</td>\n",
       "      <td>9218.975090</td>\n",
       "      <td>13832.772582</td>\n",
       "    </tr>\n",
       "    <tr>\n",
       "      <th>2017-12-31 23:57:00</th>\n",
       "      <td>13908.73</td>\n",
       "      <td>13913.26</td>\n",
       "      <td>13874.99</td>\n",
       "      <td>13913.26</td>\n",
       "      <td>0.775012</td>\n",
       "      <td>10755.452004</td>\n",
       "      <td>13877.786629</td>\n",
       "    </tr>\n",
       "    <tr>\n",
       "      <th>2017-12-31 23:58:00</th>\n",
       "      <td>13913.26</td>\n",
       "      <td>13953.83</td>\n",
       "      <td>13884.69</td>\n",
       "      <td>13953.77</td>\n",
       "      <td>1.398784</td>\n",
       "      <td>19471.259902</td>\n",
       "      <td>13920.133815</td>\n",
       "    </tr>\n",
       "    <tr>\n",
       "      <th>2017-12-31 23:59:00</th>\n",
       "      <td>13913.28</td>\n",
       "      <td>13913.28</td>\n",
       "      <td>13867.18</td>\n",
       "      <td>13880.00</td>\n",
       "      <td>0.591748</td>\n",
       "      <td>8218.352700</td>\n",
       "      <td>13888.274052</td>\n",
       "    </tr>\n",
       "  </tbody>\n",
       "</table>\n",
       "<p>525599 rows × 7 columns</p>\n",
       "</div>"
      ],
      "text/plain": [
       "                         Open      High       Low     Close  Volume_(BTC)  \\\n",
       "2017-01-01 00:01:00    966.34    966.34    966.34    966.34      7.610000   \n",
       "2017-01-01 00:02:00    966.16    966.37    966.16    966.37      8.087376   \n",
       "2017-01-01 00:03:00    966.16    966.37    966.16    966.37      0.000000   \n",
       "2017-01-01 00:04:00    966.16    966.37    966.16    966.37      0.000000   \n",
       "2017-01-01 00:05:00    966.43    966.43    966.43    966.43      0.107000   \n",
       "...                       ...       ...       ...       ...           ...   \n",
       "2017-12-31 23:55:00  13825.05  13825.05  13825.05  13825.05      0.065501   \n",
       "2017-12-31 23:56:00  13827.00  13908.69  13827.00  13859.58      0.666459   \n",
       "2017-12-31 23:57:00  13908.73  13913.26  13874.99  13913.26      0.775012   \n",
       "2017-12-31 23:58:00  13913.26  13953.83  13884.69  13953.77      1.398784   \n",
       "2017-12-31 23:59:00  13913.28  13913.28  13867.18  13880.00      0.591748   \n",
       "\n",
       "                     Volume_(Currency)  Weighted_Price  \n",
       "2017-01-01 00:01:00        7353.847400      966.340000  \n",
       "2017-01-01 00:02:00        7814.876061      966.305479  \n",
       "2017-01-01 00:03:00           0.000000        0.000000  \n",
       "2017-01-01 00:04:00           0.000000        0.000000  \n",
       "2017-01-01 00:05:00         103.408010      966.430000  \n",
       "...                                ...             ...  \n",
       "2017-12-31 23:55:00         905.560130    13825.050000  \n",
       "2017-12-31 23:56:00        9218.975090    13832.772582  \n",
       "2017-12-31 23:57:00       10755.452004    13877.786629  \n",
       "2017-12-31 23:58:00       19471.259902    13920.133815  \n",
       "2017-12-31 23:59:00        8218.352700    13888.274052  \n",
       "\n",
       "[525599 rows x 7 columns]"
      ]
     },
     "execution_count": 108,
     "metadata": {},
     "output_type": "execute_result"
    }
   ],
   "source": [
    "df2"
   ]
  },
  {
   "cell_type": "markdown",
   "metadata": {},
   "source": [
    "# Let's take daily closes as our data from now on..."
   ]
  },
  {
   "cell_type": "code",
   "execution_count": null,
   "metadata": {},
   "outputs": [],
   "source": [
    "# Take the daily close of the data and plot it."
   ]
  },
  {
   "cell_type": "code",
   "execution_count": 119,
   "metadata": {
    "ExecuteTime": {
     "end_time": "2021-03-04T13:21:21.066499Z",
     "start_time": "2021-03-04T13:21:20.034182Z"
    }
   },
   "outputs": [
    {
     "name": "stderr",
     "output_type": "stream",
     "text": [
      "<ipython-input-119-1d2765ff4d51>:1: RuntimeWarning: divide by zero encountered in log\n",
      "  np.log(1+df[['Open', 'High', 'Low', 'Close']].diff()).corr()\n",
      "<ipython-input-119-1d2765ff4d51>:1: RuntimeWarning: invalid value encountered in log\n",
      "  np.log(1+df[['Open', 'High', 'Low', 'Close']].diff()).corr()\n"
     ]
    },
    {
     "data": {
      "text/html": [
       "<div>\n",
       "<style scoped>\n",
       "    .dataframe tbody tr th:only-of-type {\n",
       "        vertical-align: middle;\n",
       "    }\n",
       "\n",
       "    .dataframe tbody tr th {\n",
       "        vertical-align: top;\n",
       "    }\n",
       "\n",
       "    .dataframe thead th {\n",
       "        text-align: right;\n",
       "    }\n",
       "</style>\n",
       "<table border=\"1\" class=\"dataframe\">\n",
       "  <thead>\n",
       "    <tr style=\"text-align: right;\">\n",
       "      <th></th>\n",
       "      <th>Open</th>\n",
       "      <th>High</th>\n",
       "      <th>Low</th>\n",
       "      <th>Close</th>\n",
       "    </tr>\n",
       "  </thead>\n",
       "  <tbody>\n",
       "    <tr>\n",
       "      <th>Open</th>\n",
       "      <td>1.000000</td>\n",
       "      <td>0.547191</td>\n",
       "      <td>0.676911</td>\n",
       "      <td>0.484151</td>\n",
       "    </tr>\n",
       "    <tr>\n",
       "      <th>High</th>\n",
       "      <td>0.547191</td>\n",
       "      <td>1.000000</td>\n",
       "      <td>0.511077</td>\n",
       "      <td>0.685828</td>\n",
       "    </tr>\n",
       "    <tr>\n",
       "      <th>Low</th>\n",
       "      <td>0.676911</td>\n",
       "      <td>0.511077</td>\n",
       "      <td>1.000000</td>\n",
       "      <td>0.584377</td>\n",
       "    </tr>\n",
       "    <tr>\n",
       "      <th>Close</th>\n",
       "      <td>0.484151</td>\n",
       "      <td>0.685828</td>\n",
       "      <td>0.584377</td>\n",
       "      <td>1.000000</td>\n",
       "    </tr>\n",
       "  </tbody>\n",
       "</table>\n",
       "</div>"
      ],
      "text/plain": [
       "           Open      High       Low     Close\n",
       "Open   1.000000  0.547191  0.676911  0.484151\n",
       "High   0.547191  1.000000  0.511077  0.685828\n",
       "Low    0.676911  0.511077  1.000000  0.584377\n",
       "Close  0.484151  0.685828  0.584377  1.000000"
      ]
     },
     "execution_count": 119,
     "metadata": {},
     "output_type": "execute_result"
    }
   ],
   "source": [
    "np.log(1+df[['Open', 'High', 'Low', 'Close']].diff()).corr()"
   ]
  },
  {
   "cell_type": "code",
   "execution_count": null,
   "metadata": {},
   "outputs": [],
   "source": [
    "# We want to see the data in percent change so that it's comparable across the board.\n",
    "\n",
    "# We can also use log-returns, up to you.\n",
    "# For a better understanding of log-returns in finance, read this: https://quantivity.wordpress.com/2011/02/21/why-log-returns/\n",
    "\n",
    "# Why would we not use absolute returns?"
   ]
  },
  {
   "cell_type": "code",
   "execution_count": null,
   "metadata": {},
   "outputs": [],
   "source": []
  },
  {
   "cell_type": "code",
   "execution_count": null,
   "metadata": {},
   "outputs": [],
   "source": [
    "## Plot the daily distribution of percent returns as a density plot using sns.distplot"
   ]
  },
  {
   "cell_type": "code",
   "execution_count": null,
   "metadata": {},
   "outputs": [],
   "source": []
  },
  {
   "cell_type": "code",
   "execution_count": null,
   "metadata": {},
   "outputs": [],
   "source": [
    "## The data is rather noisy. Why don't we take a moving average to smooth it out."
   ]
  },
  {
   "cell_type": "code",
   "execution_count": null,
   "metadata": {},
   "outputs": [],
   "source": []
  },
  {
   "cell_type": "code",
   "execution_count": null,
   "metadata": {},
   "outputs": [],
   "source": [
    "## The problem with a moving average is that it weighs the last value as much as the newest value.\n",
    "# For this, we'll use an exponentially weighted moving average, which you can find here: https://pandas.pydata.org/pandas-docs/version/0.17.0/generated/pandas.ewma.html"
   ]
  },
  {
   "cell_type": "code",
   "execution_count": null,
   "metadata": {},
   "outputs": [],
   "source": []
  },
  {
   "cell_type": "code",
   "execution_count": null,
   "metadata": {},
   "outputs": [],
   "source": [
    "## Now let's visualize our moving averages compared to the actual closing prices."
   ]
  },
  {
   "cell_type": "code",
   "execution_count": null,
   "metadata": {},
   "outputs": [],
   "source": []
  },
  {
   "cell_type": "code",
   "execution_count": null,
   "metadata": {},
   "outputs": [],
   "source": [
    "## Let's see what our rolling standard deviation is over time."
   ]
  },
  {
   "cell_type": "code",
   "execution_count": null,
   "metadata": {},
   "outputs": [],
   "source": []
  },
  {
   "cell_type": "code",
   "execution_count": null,
   "metadata": {},
   "outputs": [],
   "source": [
    "## Now, we want to compare the moves today with the historical moves of the underlying (bitcoin, in this case).\n",
    "## What can we apply to the data in order to do this?\n",
    "# HINT: z-score"
   ]
  },
  {
   "cell_type": "code",
   "execution_count": null,
   "metadata": {},
   "outputs": [],
   "source": []
  },
  {
   "cell_type": "code",
   "execution_count": null,
   "metadata": {},
   "outputs": [],
   "source": []
  },
  {
   "cell_type": "code",
   "execution_count": null,
   "metadata": {},
   "outputs": [],
   "source": [
    "## Now let's make a simple trading strategy!\n",
    "# We have two options: either we are trend-following or mean reverting.\n",
    "# Trend following means that if it's going up, we buy because it will continue going up.\n",
    "# Mean reversion means that if it goes down, it is bound to come back up.\n",
    "# This is also where a lot of domain knowledge comes into play."
   ]
  },
  {
   "cell_type": "code",
   "execution_count": null,
   "metadata": {},
   "outputs": [],
   "source": [
    "df['Close'].resample('1D').last().plot()\n",
    "plt.grid()"
   ]
  },
  {
   "cell_type": "code",
   "execution_count": null,
   "metadata": {},
   "outputs": [],
   "source": []
  },
  {
   "cell_type": "code",
   "execution_count": null,
   "metadata": {},
   "outputs": [],
   "source": []
  },
  {
   "cell_type": "code",
   "execution_count": null,
   "metadata": {},
   "outputs": [],
   "source": []
  },
  {
   "cell_type": "code",
   "execution_count": null,
   "metadata": {},
   "outputs": [],
   "source": []
  },
  {
   "cell_type": "code",
   "execution_count": null,
   "metadata": {},
   "outputs": [],
   "source": []
  },
  {
   "cell_type": "code",
   "execution_count": null,
   "metadata": {},
   "outputs": [],
   "source": []
  },
  {
   "cell_type": "code",
   "execution_count": null,
   "metadata": {},
   "outputs": [],
   "source": []
  },
  {
   "cell_type": "code",
   "execution_count": null,
   "metadata": {},
   "outputs": [],
   "source": []
  },
  {
   "cell_type": "code",
   "execution_count": null,
   "metadata": {},
   "outputs": [],
   "source": []
  }
 ],
 "metadata": {
  "kernelspec": {
   "display_name": "myenv",
   "language": "python",
   "name": "myenv"
  },
  "language_info": {
   "codemirror_mode": {
    "name": "ipython",
    "version": 3
   },
   "file_extension": ".py",
   "mimetype": "text/x-python",
   "name": "python",
   "nbconvert_exporter": "python",
   "pygments_lexer": "ipython3",
   "version": "3.8.8"
  }
 },
 "nbformat": 4,
 "nbformat_minor": 4
}
